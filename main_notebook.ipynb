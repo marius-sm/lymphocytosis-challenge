{
 "cells": [
  {
   "cell_type": "markdown",
   "metadata": {},
   "source": [
    "Code by Marius Schmidt-Mengin"
   ]
  },
  {
   "cell_type": "code",
   "execution_count": 2,
   "metadata": {
    "_cell_guid": "b1076dfc-b9ad-4769-8c92-a6c4dae69d19",
    "_uuid": "8f2839f25d086af736a60e9eeb907d3b93b6e0e5"
   },
   "outputs": [
    {
     "name": "stdout",
     "output_type": "stream",
     "text": [
      "Collecting git+https://github.com/rwightman/pytorch-image-models\n",
      "  Cloning https://github.com/rwightman/pytorch-image-models to /tmp/pip-req-build-sgijfsww\n",
      "  Running command git clone -q https://github.com/rwightman/pytorch-image-models /tmp/pip-req-build-sgijfsww\n",
      "Requirement already satisfied: torch>=1.4 in /opt/conda/lib/python3.7/site-packages (from timm==0.4.6) (1.7.0)\n",
      "Requirement already satisfied: torchvision in /opt/conda/lib/python3.7/site-packages (from timm==0.4.6) (0.8.1)\n",
      "Requirement already satisfied: future in /opt/conda/lib/python3.7/site-packages (from torch>=1.4->timm==0.4.6) (0.18.2)\n",
      "Requirement already satisfied: typing_extensions in /opt/conda/lib/python3.7/site-packages (from torch>=1.4->timm==0.4.6) (3.7.4.3)\n",
      "Requirement already satisfied: dataclasses in /opt/conda/lib/python3.7/site-packages (from torch>=1.4->timm==0.4.6) (0.6)\n",
      "Requirement already satisfied: numpy in /opt/conda/lib/python3.7/site-packages (from torch>=1.4->timm==0.4.6) (1.19.5)\n",
      "Requirement already satisfied: pillow>=4.1.1 in /opt/conda/lib/python3.7/site-packages (from torchvision->timm==0.4.6) (7.2.0)\n",
      "Building wheels for collected packages: timm\n",
      "  Building wheel for timm (setup.py) ... \u001b[?25ldone\n",
      "\u001b[?25h  Created wheel for timm: filename=timm-0.4.6-py3-none-any.whl size=296181 sha256=8b56a6815b78286b911bf487afbeaad59ba78060e8ccd4240d2efef90fb2387c\n",
      "  Stored in directory: /tmp/pip-ephem-wheel-cache-m8btzk5s/wheels/69/3d/b0/be55cbadabd87a0e1875d63c7492d199097a39cc2433637650\n",
      "Successfully built timm\n",
      "Installing collected packages: timm\n",
      "Successfully installed timm-0.4.6\n"
     ]
    }
   ],
   "source": [
    "!pip install git+https://github.com/rwightman/pytorch-image-models"
   ]
  },
  {
   "cell_type": "code",
   "execution_count": 3,
   "metadata": {},
   "outputs": [],
   "source": [
    "import torch\n",
    "import torch.nn as nn\n",
    "import torch.nn.functional as F\n",
    "import torchvision\n",
    "\n",
    "import os\n",
    "import glob\n",
    "import time\n",
    "import copy\n",
    "import pickle\n",
    "from tqdm import tqdm\n",
    "\n",
    "import numpy as np\n",
    "import pandas as pd\n",
    "import matplotlib.pyplot as plt\n",
    "import PIL.Image\n",
    "\n",
    "import timm\n",
    "\n",
    "from sklearn.model_selection import train_test_split\n",
    "from sklearn.metrics import balanced_accuracy_score as bas\n",
    "\n",
    "device = 'cuda' if torch.cuda.is_available() else 'cpu'"
   ]
  },
  {
   "cell_type": "markdown",
   "metadata": {},
   "source": [
    "# Load data into RAM"
   ]
  },
  {
   "cell_type": "code",
   "execution_count": 4,
   "metadata": {},
   "outputs": [
    {
     "name": "stderr",
     "output_type": "stream",
     "text": [
      "100%|██████████| 163/163 [00:39<00:00,  4.13it/s]\n"
     ]
    }
   ],
   "source": [
    "data = pd.read_csv('/kaggle/input/3md3070-dlmi/trainset/trainset_true.csv')\n",
    "data['GENDER'].values[data['GENDER'].values == 'M'] = 1\n",
    "data['GENDER'].values[data['GENDER'].values == 'F'] = 0\n",
    "data['GENDER'].values[data['GENDER'].values == 'm'] = 1\n",
    "data['GENDER'].values[data['GENDER'].values == 'f'] = 0\n",
    "data['YOB'] = pd.DatetimeIndex(data['DOB']).year\n",
    "data['MOB'] = pd.DatetimeIndex(data['DOB']).month\n",
    "data['IMAGES'] = None\n",
    "\n",
    "for i, row in tqdm(data.iterrows(), total=len(data)):\n",
    "    image_paths = glob.glob(f'/kaggle/input/3md3070-dlmi/trainset/{row[\"ID\"]}/*.jpg')\n",
    "    images = []\n",
    "    for p in image_paths:\n",
    "        image = PIL.Image.open(p)\n",
    "        images.append(image)\n",
    "    data.at[i, 'IMAGES'] = images"
   ]
  },
  {
   "cell_type": "code",
   "execution_count": 5,
   "metadata": {},
   "outputs": [
    {
     "name": "stderr",
     "output_type": "stream",
     "text": [
      "100%|██████████| 42/42 [00:09<00:00,  4.62it/s]\n"
     ]
    }
   ],
   "source": [
    "testdata = pd.read_csv('/kaggle/input/3md3070-dlmi/testset/testset_data.csv')\n",
    "testdata['GENDER'].values[testdata['GENDER'].values == 'M'] = 1\n",
    "testdata['GENDER'].values[testdata['GENDER'].values == 'F'] = 0\n",
    "testdata['GENDER'].values[testdata['GENDER'].values == 'm'] = 1\n",
    "testdata['GENDER'].values[testdata['GENDER'].values == 'f'] = 0\n",
    "testdata['YOB'] = pd.DatetimeIndex(testdata['DOB']).year\n",
    "testdata['MOB'] = pd.DatetimeIndex(testdata['DOB']).month\n",
    "testdata['IMAGES'] = None\n",
    "\n",
    "test_ids = []\n",
    "\n",
    "for i, row in tqdm(testdata.iterrows(), total=len(testdata)):\n",
    "    image_paths = glob.glob(f'/kaggle/input/3md3070-dlmi/testset/{row[\"ID\"]}/*.jpg')\n",
    "    test_ids.append(row[\"ID\"])\n",
    "    images = []    \n",
    "    for p in image_paths:\n",
    "        image = PIL.Image.open(p)\n",
    "        images.append(image)\n",
    "    testdata.at[i, 'IMAGES'] = images"
   ]
  },
  {
   "cell_type": "markdown",
   "metadata": {},
   "source": [
    "# Split into train/val\n",
    "\n",
    "As the number of patients is small (163), we use a 50/50 split for reliable evaluation."
   ]
  },
  {
   "cell_type": "code",
   "execution_count": 6,
   "metadata": {},
   "outputs": [],
   "source": [
    "traindata, validdata = train_test_split(data, test_size=0.5, random_state=1)"
   ]
  },
  {
   "cell_type": "markdown",
   "metadata": {},
   "source": [
    "# Preprocessing"
   ]
  },
  {
   "cell_type": "markdown",
   "metadata": {},
   "source": [
    "These values were computed over the training images."
   ]
  },
  {
   "cell_type": "code",
   "execution_count": 7,
   "metadata": {},
   "outputs": [],
   "source": [
    "MEAN = torch.tensor([0.8183, 0.6977, 0.7034])\n",
    "STD = torch.tensor([0.1917, 0.2156, 0.0917])"
   ]
  },
  {
   "cell_type": "markdown",
   "metadata": {},
   "source": [
    "The dataset returns the images for a patient, stacked in a tensor, and the label of the patient."
   ]
  },
  {
   "cell_type": "code",
   "execution_count": 8,
   "metadata": {},
   "outputs": [],
   "source": [
    "class MILDataset(torch.utils.data.Dataset):\n",
    "    def __init__(self, data, transform, num_images=None):\n",
    "        super().__init__()\n",
    "        \n",
    "        if transform is None:\n",
    "            transform = lambda x: x\n",
    "        \n",
    "        self.data = data\n",
    "        self.transform = transform\n",
    "        self.num_images = num_images # allows to use only the n first images\n",
    "        \n",
    "    def __len__(self):\n",
    "        return len(self.data)\n",
    "    \n",
    "    def __getitem__(self, idx):\n",
    "        row = self.data.iloc[idx]\n",
    "        if self.num_images is not None:\n",
    "            indices = torch.randperm(len(row['IMAGES']))[:self.num_images]\n",
    "            images = [row['IMAGES'][i] for i in indices]\n",
    "        else:\n",
    "            images = [img for img in row['IMAGES']]\n",
    "        images = [self.transform(img) for img in images]\n",
    "        images = torch.stack(images, 0)\n",
    "        return images, row['LABEL']"
   ]
  },
  {
   "cell_type": "markdown",
   "metadata": {},
   "source": [
    "The collate function is used to make batches of patients. It stacks and shuffles the images of all the patients in the batch and return indices that will allow to re-arrange the features into separate patients."
   ]
  },
  {
   "cell_type": "code",
   "execution_count": 9,
   "metadata": {},
   "outputs": [],
   "source": [
    "def collate_fn(inputs):\n",
    "    images, labels = zip(*inputs)\n",
    "    indices_a = torch.cat([i*torch.ones(len(images[i]), dtype=torch.long) for i in range(len(images))])\n",
    "    indices_b = torch.cat([torch.arange(len(images[i]), dtype=torch.long) for i in range(len(images))])\n",
    "    images = torch.cat(images, 0)\n",
    "    perm = torch.randperm(len(images))\n",
    "    images = images[perm]\n",
    "    indices_a = indices_a[perm]\n",
    "    indices_b = indices_b[perm]\n",
    "    labels = torch.tensor(labels, dtype=torch.long)\n",
    "    return images, labels, indices_a, indices_b"
   ]
  },
  {
   "cell_type": "markdown",
   "metadata": {},
   "source": [
    "We do a center crop of size 112 (the original size is 224). Random cropping was on par with center cropping so we do not use it. We only use random flipping as other augmentations deteriorated the performance.\n",
    "\n",
    "Furthermore, as the number of images in a batch can be very high (up to about 1500), the images are not immediately converted to float to save RAM (conversion and normalization is done in the model, once on the GPU)."
   ]
  },
  {
   "cell_type": "code",
   "execution_count": 10,
   "metadata": {},
   "outputs": [],
   "source": [
    "crop_size = 112\n",
    "\n",
    "def to_tensor_uint8(img):\n",
    "    return torch.from_numpy(np.array(img))\n",
    "\n",
    "aug = torchvision.transforms.Compose([\n",
    "    torchvision.transforms.CenterCrop(crop_size),\n",
    "    torchvision.transforms.RandomHorizontalFlip(p=0.5),\n",
    "    torchvision.transforms.RandomVerticalFlip(p=0.5),\n",
    "    to_tensor_uint8,\n",
    "])\n",
    "\n",
    "no_aug = torchvision.transforms.Compose([\n",
    "    torchvision.transforms.CenterCrop(crop_size),\n",
    "    to_tensor_uint8\n",
    "])\n",
    "\n",
    "traindataset = MILDataset(traindata, aug)\n",
    "validdataset = MILDataset(validdata, no_aug)\n",
    "testdataset  = MILDataset(testdata, no_aug)\n",
    "\n",
    "trainloader = torch.utils.data.DataLoader(traindataset, batch_size=16, collate_fn=collate_fn, shuffle=True, drop_last=True, num_workers=2, persistent_workers=True)\n",
    "validloader = torch.utils.data.DataLoader(validdataset, batch_size=16, collate_fn=collate_fn, shuffle=False, drop_last=False, num_workers=1, persistent_workers=True)\n",
    "testloader  = torch.utils.data.DataLoader(testdataset, batch_size=8, collate_fn=collate_fn, shuffle=False, drop_last=False, num_workers=1, persistent_workers=True)"
   ]
  },
  {
   "cell_type": "code",
   "execution_count": 13,
   "metadata": {},
   "outputs": [
    {
     "name": "stdout",
     "output_type": "stream",
     "text": [
      "Shape of image tensor: torch.Size([1343, 112, 112, 3])\n",
      "Patient labels: [1, 0, 1, 1, 0, 1, 0, 0, 0, 1, 0, 1, 0, 1, 0, 1]\n"
     ]
    },
    {
     "data": {
      "image/png": "[encoded data removed]",
      "text/plain": [
       "<Figure size 432x288 with 1 Axes>"
      ]
     },
     "metadata": {
      "needs_background": "light"
     },
     "output_type": "display_data"
    }
   ],
   "source": [
    "batch = next(iter(validloader))\n",
    "print('Shape of image tensor:', batch[0].shape)\n",
    "print('Patient labels:', batch[1].tolist())\n",
    "plt.imshow(batch[0][0]);"
   ]
  },
  {
   "cell_type": "markdown",
   "metadata": {},
   "source": [
    "# Model definition"
   ]
  },
  {
   "cell_type": "code",
   "execution_count": 17,
   "metadata": {},
   "outputs": [],
   "source": [
    "class MILModel(nn.Module):\n",
    "    def __init__(self):\n",
    "        super().__init__()\n",
    "        \n",
    "        self.normalize = torchvision.transforms.Normalize(mean=MEAN, std=STD)\n",
    "        \n",
    "        self.backbone = timm.create_model('resnet18', pretrained=True, num_classes=0, global_pool='')\n",
    "        \n",
    "        self.feature_size = 512\n",
    "                \n",
    "        self.max_forward_batch_size = 512\n",
    "        self.max_backward_batch_size = 512\n",
    "        \n",
    "        self.conv = nn.Conv2d(self.feature_size, 1, 1, padding=0)\n",
    "        self.bn = nn.BatchNorm2d(1, momentum=0.95, affine=True)\n",
    "        \n",
    "    def forward(self, images, indices_a=None, indices_b=None, output_features=False):\n",
    "        num_images = len(images)\n",
    "                \n",
    "        if images.dtype == torch.uint8:\n",
    "            images = self.normalize(images.permute(0, 3, 1, 2).type(torch.float32)/255)\n",
    "        \n",
    "        if indices_a is None or indices_b is None:\n",
    "            assert indices_a is None and indices_b is None\n",
    "            indices_a = torch.zeros(num_images, dtype=torch.long, device=images.device)\n",
    "            indices_b = torch.arange(num_images, dtype=torch.long, device=images.device)\n",
    "        \n",
    "        features = []\n",
    "        i = 0\n",
    "        with torch.no_grad():\n",
    "            while i < num_images-self.max_backward_batch_size:\n",
    "                j = min(i+self.max_forward_batch_size, num_images-self.max_backward_batch_size)\n",
    "                features.append(self.backbone(images[i:j]))\n",
    "                i = j\n",
    "        if i < num_images: # does not happen when self.max_backward_batch_size == 0\n",
    "            features.append(self.backbone(images[i:]))\n",
    "        features = torch.cat(features, 0)\n",
    "        \n",
    "        l = self.conv(features) # these are the logits\n",
    "        f = torch.sigmoid(self.bn(l.detach())) # weighting factors (alpha)\n",
    "        \n",
    "        # The next couple of lines use advanced indexing to re-arrange all the features into each patient.\n",
    "        num_bags = indices_a.max() + 1\n",
    "        max_len = indices_b.max() + 1\n",
    "        x = torch.zeros(num_bags, max_len, *features.shape[1:], device=features.device)\n",
    "        logits = torch.zeros(num_bags, max_len, *l.shape[1:], device=features.device)\n",
    "        factors = torch.zeros(num_bags, max_len, *f.shape[1:], device=features.device)\n",
    "        mask = torch.zeros(num_bags, max_len, device=features.device, dtype=torch.long)\n",
    "        x[indices_a, indices_b] = features\n",
    "        factors[indices_a, indices_b] = f\n",
    "        mask[indices_a, indices_b] = 1\n",
    "        logits[indices_a, indices_b] = l\n",
    "                        \n",
    "        if output_features:\n",
    "            return logits, mask, factors\n",
    "        \n",
    "        # Aggregation\n",
    "        mask = mask.unsqueeze(-1).unsqueeze(-1).unsqueeze(-1)\n",
    "        patient_logits = (logits*mask*factors).sum((1, 3, 4))/(mask*factors).sum((1, 3, 4))        \n",
    "\n",
    "        return patient_logits\n",
    "            \n",
    "model = MILModel().to(device)\n",
    "images, labels, indices_a, indices_b = batch\n",
    "with torch.no_grad():\n",
    "    model.eval()\n",
    "    model(images.to(device), indices_a.to(device), indices_b.to(device))\n",
    "    \n",
    "params = model.parameters()\n",
    "model.optimizer = torch.optim.Adam(params, 1e-4)"
   ]
  },
  {
   "cell_type": "code",
   "execution_count": 18,
   "metadata": {},
   "outputs": [],
   "source": [
    "# Defines a training step. Used by the helper functions defined at the end of this notebook.\n",
    "def training_step_fn(model, batch, training=True):\n",
    "    images, labels, indices_a, indices_b = batch\n",
    "    labels = labels.to(device)\n",
    "    \n",
    "    outputs = model(images.to(device), indices_a.to(device), indices_b.to(device))\n",
    "    outputs = outputs[..., 0]\n",
    "    loss = F.binary_cross_entropy_with_logits(outputs, labels.float(), reduction='none')\n",
    "    summed_loss = loss.sum() \n",
    "    \n",
    "    probs = outputs.sigmoid()\n",
    "                    \n",
    "    predicted = (probs > 0.5).long()\n",
    "    num_correct_samples = (predicted == labels).float().sum()\n",
    "    \n",
    "    return len(labels), num_correct_samples, summed_loss, probs"
   ]
  },
  {
   "cell_type": "code",
   "execution_count": 19,
   "metadata": {},
   "outputs": [],
   "source": [
    "def on_epoch_end(d): # Save model if balanced accuracy increased\n",
    "        \n",
    "    save = False\n",
    "    \n",
    "    if not hasattr(model, 'best_valid_accuracy'):\n",
    "        model.best_valid_accuracy = 0\n",
    "    if not hasattr(model, 'best_valid_loss'):\n",
    "        model.best_valid_loss = float('inf')\n",
    "    if not hasattr(model, 'best_valid_balanced_accuracy'):\n",
    "        model.best_valid_balanced_accuracy = 0\n",
    "    \n",
    "    if d['valid_balanced_accuracy'] > model.best_valid_balanced_accuracy:\n",
    "        model.best_valid_balanced_accuracy = d['valid_balanced_accuracy']\n",
    "        model.best_valid_accuracy = d['valid_accuracy']\n",
    "        model.best_valid_loss = d['valid_loss']\n",
    "        save = True\n",
    "    \n",
    "    if save:\n",
    "        torch.save({\n",
    "            'model_state_dict': model.state_dict(),\n",
    "            'optimizer_state_dict': model.optimizer.state_dict()},\n",
    "        f'{d[\"valid_balanced_accuracy\"]:.4f}.pth')\n",
    "\n",
    "        print(f'Saved {d[\"valid_balanced_accuracy\"]:.4f}.pth \\n')"
   ]
  },
  {
   "cell_type": "code",
   "execution_count": 20,
   "metadata": {},
   "outputs": [],
   "source": [
    "# Delete checkpoints from previous training\n",
    "\n",
    "dir_name = './'\n",
    "dirs = os.listdir(dir_name)\n",
    "\n",
    "for item in dirs:\n",
    "    if item.endswith('.pth'):\n",
    "        os.remove(os.path.join(dir_name, item))\n",
    "        print('Removed', os.path.join(dir_name, item))"
   ]
  },
  {
   "cell_type": "code",
   "execution_count": 22,
   "metadata": {},
   "outputs": [
    {
     "name": "stdout",
     "output_type": "stream",
     "text": [
      "Epoch 1, iteration 5/5: running loss 0.6244, running acc 0.6529, batch loss: 0.5012, batch acc: 0.8750, running time per batch: 1.9348s (model) 2.3216s (loader)\n",
      "Epoch 1: training loss 0.5769, training accuracy 0.7625\n",
      "Validation accuracy 0.7317, loss 0.5014, balanced accuracy 0.6329\n",
      "\n",
      "Saved 0.6329.pth \n",
      "\n",
      "Epoch 2, iteration 5/5: running loss 0.4635, running acc 0.8100, batch loss: 0.3490, batch acc: 0.9375, running time per batch: 1.8109s (model) 1.4398s (loader)\n",
      "Epoch 2: training loss 0.3945, training accuracy 0.8875\n",
      "Validation accuracy 0.7683, loss 0.4670, balanced accuracy 0.6865\n",
      "\n",
      "Saved 0.6865.pth \n",
      "\n",
      "Epoch 3, iteration 5/5: running loss 0.2601, running acc 0.9212, batch loss: 0.2282, batch acc: 0.9375, running time per batch: 1.8837s (model) 0.9341s (loader)\n",
      "Epoch 3: training loss 0.2882, training accuracy 0.9000\n",
      "Validation accuracy 0.7317, loss 0.5316, balanced accuracy 0.6243\n",
      "\n",
      "Epoch 4, iteration 5/5: running loss 0.1961, running acc 0.9514, batch loss: 0.2742, batch acc: 0.8750, running time per batch: 2.0248s (model) 0.8648s (loader)\n",
      "Epoch 4: training loss 0.2766, training accuracy 0.8875\n",
      "Validation accuracy 0.8293, loss 0.4273, balanced accuracy 0.8102\n",
      "\n",
      "Saved 0.8102.pth \n",
      "\n",
      "Epoch 5, iteration 5/5: running loss 0.2363, running acc 0.9273, batch loss: 0.2877, batch acc: 0.8750, running time per batch: 1.8136s (model) 0.3760s (loader)\n",
      "Epoch 5: training loss 0.2524, training accuracy 0.9125\n",
      "Validation accuracy 0.7317, loss 0.7253, balanced accuracy 0.7619\n",
      "\n",
      "Epoch 6, iteration 5/5: running loss 0.1308, running acc 0.9694, batch loss: 0.1583, batch acc: 0.9375, running time per batch: 1.9788s (model) 0.4942s (loader)\n",
      "Epoch 6: training loss 0.2002, training accuracy 0.9250\n",
      "Validation accuracy 0.7927, loss 0.4087, balanced accuracy 0.7480\n",
      "\n",
      "Epoch 7, iteration 5/5: running loss 0.1168, running acc 0.9848, batch loss: 0.1242, batch acc: 1.0000, running time per batch: 1.9095s (model) 0.4262s (loader)\n",
      "Epoch 7: training loss 0.1454, training accuracy 0.9625\n",
      "Validation accuracy 0.7805, loss 0.4645, balanced accuracy 0.7130\n",
      "\n",
      "Epoch 8, iteration 5/5: running loss 0.1402, running acc 0.9837, batch loss: 0.0505, batch acc: 1.0000, running time per batch: 1.8774s (model) 0.5993s (loader)\n",
      "Epoch 8: training loss 0.1357, training accuracy 0.9625\n",
      "Validation accuracy 0.8049, loss 0.4168, balanced accuracy 0.7917\n",
      "\n",
      "Epoch 9, iteration 5/5: running loss 0.0731, running acc 0.9892, batch loss: 0.1840, batch acc: 0.9375, running time per batch: 1.8132s (model) 0.6027s (loader)\n",
      "Epoch 9: training loss 0.0968, training accuracy 0.9750\n",
      "Validation accuracy 0.8415, loss 0.5097, balanced accuracy 0.8452\n",
      "\n",
      "Saved 0.8452.pth \n",
      "\n",
      "Epoch 10, iteration 5/5: running loss 0.0783, running acc 0.9843, batch loss: 0.0814, batch acc: 1.0000, running time per batch: 1.8911s (model) 0.4370s (loader)\n",
      "Epoch 10: training loss 0.1102, training accuracy 0.9625\n",
      "Validation accuracy 0.8171, loss 0.4211, balanced accuracy 0.7665\n",
      "\n",
      "Epoch 11, iteration 5/5: running loss 0.0484, running acc 1.0000, batch loss: 0.0567, batch acc: 1.0000, running time per batch: 1.9365s (model) 0.4517s (loader)\n",
      "Epoch 11: training loss 0.0584, training accuracy 1.0000\n",
      "Validation accuracy 0.8171, loss 0.4633, balanced accuracy 0.7493\n",
      "\n",
      "Epoch 12, iteration 5/5: running loss 0.0570, running acc 1.0000, batch loss: 0.0392, batch acc: 1.0000, running time per batch: 1.8477s (model) 0.3715s (loader)\n",
      "Epoch 12: training loss 0.0491, training accuracy 1.0000\n",
      "Validation accuracy 0.8415, loss 0.3824, balanced accuracy 0.8280\n",
      "\n",
      "Epoch 13, iteration 5/5: running loss 0.0324, running acc 1.0000, batch loss: 0.0379, batch acc: 1.0000, running time per batch: 1.9403s (model) 0.4388s (loader)\n",
      "Epoch 13: training loss 0.0363, training accuracy 1.0000\n",
      "Validation accuracy 0.8171, loss 0.4411, balanced accuracy 0.8095\n",
      "\n",
      "Epoch 14, iteration 5/5: running loss 0.0245, running acc 1.0000, batch loss: 0.0129, batch acc: 1.0000, running time per batch: 1.9136s (model) 0.4281s (loader)\n",
      "Epoch 14: training loss 0.0229, training accuracy 1.0000\n",
      "Validation accuracy 0.8293, loss 0.4309, balanced accuracy 0.8188\n",
      "\n",
      "Epoch 15, iteration 5/5: running loss 0.0192, running acc 1.0000, batch loss: 0.0208, batch acc: 1.0000, running time per batch: 1.8826s (model) 0.4150s (loader)\n",
      "Epoch 15: training loss 0.0192, training accuracy 1.0000\n",
      "Validation accuracy 0.8293, loss 0.4384, balanced accuracy 0.8188\n",
      "\n",
      "Epoch 16, iteration 5/5: running loss 0.0127, running acc 1.0000, batch loss: 0.0218, batch acc: 1.0000, running time per batch: 1.8459s (model) 0.4044s (loader)\n",
      "Epoch 16: training loss 0.0147, training accuracy 1.0000\n",
      "Validation accuracy 0.8171, loss 0.4428, balanced accuracy 0.8009\n",
      "\n",
      "Epoch 17, iteration 5/5: running loss 0.0183, running acc 1.0000, batch loss: 0.0100, batch acc: 1.0000, running time per batch: 1.7640s (model) 0.3451s (loader)\n",
      "Epoch 17: training loss 0.0164, training accuracy 1.0000\n",
      "Validation accuracy 0.8415, loss 0.4362, balanced accuracy 0.8108\n",
      "\n",
      "Epoch 18, iteration 5/5: running loss 0.0157, running acc 1.0000, batch loss: 0.0119, batch acc: 1.0000, running time per batch: 1.9965s (model) 0.4631s (loader)\n",
      "Epoch 18: training loss 0.0189, training accuracy 1.0000\n",
      "Validation accuracy 0.8415, loss 0.4368, balanced accuracy 0.8194\n",
      "\n",
      "Epoch 19, iteration 5/5: running loss 0.0056, running acc 1.0000, batch loss: 0.0095, batch acc: 1.0000, running time per batch: 1.7738s (model) 0.3513s (loader)\n",
      "Epoch 19: training loss 0.0079, training accuracy 1.0000\n",
      "Validation accuracy 0.8415, loss 0.4425, balanced accuracy 0.8194\n",
      "\n",
      "Epoch 20, iteration 5/5: running loss 0.0055, running acc 1.0000, batch loss: 0.0038, batch acc: 1.0000, running time per batch: 1.8416s (model) 0.3785s (loader)\n",
      "Epoch 20: training loss 0.0065, training accuracy 1.0000\n",
      "Validation accuracy 0.8415, loss 0.4445, balanced accuracy 0.8194\n",
      "\n",
      "Finished Training\n"
     ]
    }
   ],
   "source": [
    "# Run the last cell of this notebook first\n",
    "training_history = train_model(model, training_step_fn, trainloader, validloader, epochs=20, print_every=5, on_epoch_end=on_epoch_end)"
   ]
  },
  {
   "cell_type": "markdown",
   "metadata": {},
   "source": [
    "# Load best checkpoint and make submission file"
   ]
  },
  {
   "cell_type": "code",
   "execution_count": 23,
   "metadata": {},
   "outputs": [
    {
     "name": "stdout",
     "output_type": "stream",
     "text": [
      "Loading best checkpoint: 0.8452.pth\n"
     ]
    },
    {
     "data": {
      "text/plain": [
       "<All keys matched successfully>"
      ]
     },
     "execution_count": 23,
     "metadata": {},
     "output_type": "execute_result"
    }
   ],
   "source": [
    "dir_name = './'\n",
    "dirs = os.listdir(dir_name)\n",
    "\n",
    "best_bal_acc = 0\n",
    "best = ''\n",
    "\n",
    "for item in dirs:\n",
    "    if item.endswith('.pth'):\n",
    "        bal_acc = float(item[:6])\n",
    "        if bal_acc >= best_bal_acc:\n",
    "            best = str(item)\n",
    "            best_bal_acc = bal_acc\n",
    "\n",
    "print('Loading best checkpoint:', best)\n",
    "checkpoint = torch.load(best)\n",
    "model.load_state_dict(checkpoint['model_state_dict'])"
   ]
  },
  {
   "cell_type": "code",
   "execution_count": 25,
   "metadata": {},
   "outputs": [
    {
     "name": "stdout",
     "output_type": "stream",
     "text": [
      "Test set predictions: [1, 1, 1, 1, 0, 0, 1, 1, 1, 1, 1, 1, 1, 1, 1, 0, 1, 1, 0, 0, 1, 1, 1, 1, 0, 1, 0, 0, 1, 0, 0, 0, 0, 0, 0, 0, 0, 0, 0, 0, 0, 0]\n"
     ]
    }
   ],
   "source": [
    "model.eval()\n",
    "\n",
    "all_probs = []\n",
    "\n",
    "with torch.no_grad():\n",
    "    for i, batch in enumerate(tqdm(testloader, position=0, leave=True, disable=True)):\n",
    "        num_samples, num_correct_samples, summed_loss, logits = training_step_fn(model, batch, training=False)\n",
    "        all_probs.append(logits.cpu())\n",
    "\n",
    "all_probs = torch.cat(all_probs, 0)\n",
    "all_preds = all_probs > 0.5\n",
    "print('Test set predictions:', all_preds.int().tolist())"
   ]
  },
  {
   "cell_type": "code",
   "execution_count": 26,
   "metadata": {},
   "outputs": [],
   "source": [
    "with open('submission.csv', 'w') as f:\n",
    "    f.write('ID,Predicted\\n')\n",
    "    for ID, pred in zip(test_ids, all_preds):\n",
    "        f.write(f'{ID},{pred.int().item()}\\n')"
   ]
  },
  {
   "cell_type": "markdown",
   "metadata": {},
   "source": [
    "# Ablation study code\n",
    "\n",
    "This code runs 10 trainings with 10 (deterministic) seeds. The results for each training are save in a pickle file."
   ]
  },
  {
   "cell_type": "code",
   "execution_count": null,
   "metadata": {},
   "outputs": [],
   "source": [
    "num_epochs = 40\n",
    "num_trainings = 10\n",
    "histories = []\n",
    "for i in range(num_trainings):\n",
    "    \n",
    "    print('Starting training', i+1, '/', num_trainings, '\\n')\n",
    "    t0 = time.time()\n",
    "    \n",
    "    # seed pytorch\n",
    "    torch.manual_seed(i)\n",
    "    \n",
    "    model = MILModel().to(device)\n",
    "    params = model.parameters()\n",
    "    model.optimizer = torch.optim.Adam(params, 1e-4)\n",
    "    \n",
    "    traindata, validdata = train_test_split(data, test_size=0.5, random_state=i) # seed the random split\n",
    "    traindataset = MILDataset(traindata, aug)\n",
    "    validdataset = MILDataset(validdata, no_aug)\n",
    "    \n",
    "    # we run the trainloader on the main process because otherwise, seeding it becomes more complicated\n",
    "    trainloader = torch.utils.data.DataLoader(traindataset, batch_size=16, collate_fn=collate_fn, shuffle=True, drop_last=True, num_workers=0, persistent_workers=False)\n",
    "    validloader = torch.utils.data.DataLoader(validdataset, batch_size=8, collate_fn=collate_fn, shuffle=False, drop_last=False, num_workers=1, persistent_workers=True)\n",
    "    \n",
    "    training_history = train_model(model, training_step_fn, trainloader, validloader, epochs=num_epochs, print_every=5)\n",
    "    \n",
    "    histories.append(training_history)\n",
    "    \n",
    "    print('Training', i+1, 'duration', time.time()-t0, '\\n')\n",
    "    \n",
    "training_data = {\n",
    "    'num_epochs': num_epochs,\n",
    "    'num_training': num_trainings,\n",
    "    'images_per_bag': '10',\n",
    "    'optimizer': 'adam',\n",
    "    'lr': 1e-4,\n",
    "    'aggregation': 'mean',\n",
    "    'regularization': 'none',\n",
    "    'histories': histories,\n",
    "    'aug': 'center crop + flips',\n",
    "    'backbone': 'resnet18'\n",
    "}\n",
    "\n",
    "with open('experiment.pickle', 'wb') as handle:\n",
    "    pickle.dump(training_data, handle, protocol=3)"
   ]
  },
  {
   "cell_type": "markdown",
   "metadata": {},
   "source": [
    "# Helper functions"
   ]
  },
  {
   "cell_type": "markdown",
   "metadata": {},
   "source": [
    "Helper function for training loop and evaluation"
   ]
  },
  {
   "cell_type": "code",
   "execution_count": 21,
   "metadata": {},
   "outputs": [],
   "source": [
    "def evaluate_model(model, loader, training_step_fn):\n",
    "    \n",
    "    total_loss = 0.0\n",
    "    total_correct = 0.0\n",
    "    total_samples = 0\n",
    "    \n",
    "    all_probs = []\n",
    "    all_labels = []\n",
    "        \n",
    "    with torch.no_grad():\n",
    "        for i, batch in enumerate(tqdm(loader, position=0, leave=True, disable=True)):\n",
    "            num_samples, num_correct_samples, summed_loss, probs = training_step_fn(model, batch, training=False)\n",
    "            \n",
    "            total_loss += float(summed_loss)\n",
    "            total_correct += float(num_correct_samples)\n",
    "            total_samples += float(num_samples)\n",
    "            \n",
    "            images, labels, indices_a, indices_b = batch\n",
    "            all_labels.append(labels)\n",
    "            all_probs.append(probs.cpu())\n",
    "            \n",
    "    all_probs = torch.cat(all_probs, 0)\n",
    "    all_labels = torch.cat(all_labels, 0)\n",
    "    bal_acc = bas(all_labels, all_probs > 0.5)\n",
    "                        \n",
    "    return total_loss/total_samples, total_correct/total_samples, bal_acc\n",
    "\n",
    "def train_model(model,\n",
    "    training_step_fn,\n",
    "    trainloader,\n",
    "    validloader=None,\n",
    "    epochs=2,\n",
    "    optimizer=None,\n",
    "    print_every=1,\n",
    "    on_epoch_end=None,\n",
    "    save_best_to=False,\n",
    "    eval_every=None,\n",
    "    clip_grad_norm=None,\n",
    "    scheduler=None\n",
    "    ):\n",
    "    \n",
    "    alpha = 0.9\n",
    "\n",
    "    if optimizer is None:\n",
    "        assert hasattr(model, 'optimizer'), 'Please provide an optimizer either as argument or by setting model.optimizer = ...'\n",
    "        optimizer = model.optimizer\n",
    "        \n",
    "    total_steps = 0\n",
    "\n",
    "    train_losses = []\n",
    "    train_accuracies = []\n",
    "    val_losses = []\n",
    "    val_accuracies = []\n",
    "    val_balanced_accuracies = []\n",
    "    model_times = []\n",
    "\n",
    "    for epoch in range(epochs):\n",
    "\n",
    "        running_loss = 0.0\n",
    "        running_accuracy = 0.0\n",
    "        running_batch_time = 0.0\n",
    "        running_loader_time = 0.0\n",
    "        epoch_loss = 0.0\n",
    "        epoch_correct = 0.0\n",
    "        epoch_samples = 0\n",
    "        \n",
    "        model.train()\n",
    "        \n",
    "        t0 = time.time()\n",
    "        for i, batch in enumerate(trainloader):\n",
    "            \n",
    "            if eval_every is not None and (total_steps+1)%eval_every == 0:\n",
    "                model.eval()\n",
    "                valid_loss, valid_accuracy, bal_acc = evaluate_model(model, validloader, training_step_fn)\n",
    "                model.train()\n",
    "                print(f'Validation accuracy {valid_accuracy:.4f}, loss {valid_loss:.4f}, balanced accuracy {bal_acc:.4f}\\n')\n",
    "                val_losses.append(valid_loss)\n",
    "                val_accuracies.append(valid_accuracy)\n",
    "                val_balanced_accuracies.append(bal_acc)\n",
    "            \n",
    "            if i == 0:\n",
    "                running_loader_time = time.time() - t0\n",
    "            else:\n",
    "                running_loader_time = running_loader_time * alpha + (1-alpha) * (time.time() - t0)\n",
    "            \n",
    "            t0 = time.time()\n",
    "            \n",
    "            optimizer.zero_grad()\n",
    "            \n",
    "            num_samples, num_correct_samples, summed_loss, logits = training_step_fn(model, batch)\n",
    "            \n",
    "            mean_loss = summed_loss/num_samples\n",
    "            mean_loss.backward()\n",
    "            if clip_grad_norm is not None:\n",
    "                torch.nn.utils.clip_grad_norm_(model.parameters(), clip_grad_norm)\n",
    "            optimizer.step()\n",
    "            \n",
    "            model_times.append(time.time() - t0)\n",
    "            \n",
    "            epoch_loss += summed_loss.item()\n",
    "            epoch_correct += num_correct_samples.item()\n",
    "            epoch_samples += num_samples\n",
    "            \n",
    "            accuracy = num_correct_samples/num_samples\n",
    "\n",
    "            train_losses.append(mean_loss.item())\n",
    "            train_accuracies.append(accuracy.item())\n",
    "\n",
    "            if i == 0:\n",
    "                running_loss = mean_loss.item()\n",
    "                running_accuracy = accuracy.item()\n",
    "                running_batch_time = time.time() - t0\n",
    "            else:\n",
    "                running_loss = running_loss * alpha + (1-alpha) * mean_loss.item()\n",
    "                running_accuracy = running_accuracy * alpha + (1-alpha) * accuracy.item()\n",
    "                running_batch_time = running_batch_time * alpha + (1-alpha) * (time.time() - t0)\n",
    "                \n",
    "            if i%print_every == print_every-1:\n",
    "                print(f'Epoch {epoch+1}, iteration {i+1}/{len(trainloader)}: running loss {running_loss:.4f}, running acc {running_accuracy:.4f}, batch loss: {mean_loss.item():.4f}, batch acc: {accuracy.item():.4f}, running time per batch: {running_batch_time:.4f}s (model) {running_loader_time:.4f}s (loader)')\n",
    "            \n",
    "            if scheduler is not None:\n",
    "                scheduler.step()\n",
    "            \n",
    "            t0 = time.time()\n",
    "            \n",
    "            total_steps += 1\n",
    "        \n",
    "        train_loss = epoch_loss/epoch_samples\n",
    "        train_accuracy = epoch_correct/epoch_samples\n",
    "        print(f'Epoch {epoch+1}: training loss {train_loss:.4f}, training accuracy {train_accuracy:.4f}')\n",
    "        \n",
    "        if validloader is not None and eval_every is None:\n",
    "            model.eval()\n",
    "            valid_loss, valid_accuracy, bal_acc = evaluate_model(model, validloader, training_step_fn)\n",
    "            model.train()\n",
    "            print(f'Validation accuracy {valid_accuracy:.4f}, loss {valid_loss:.4f}, balanced accuracy {bal_acc:.4f}\\n')\n",
    "            val_losses.append(valid_loss)\n",
    "            val_accuracies.append(valid_accuracy)\n",
    "            val_balanced_accuracies.append(bal_acc)\n",
    "        \n",
    "        if on_epoch_end is not None:\n",
    "            on_epoch_end({\n",
    "                'epoch': epoch,\n",
    "                'train_loss': train_loss,\n",
    "                'train_accuracy': train_accuracy,\n",
    "                'valid_loss': None if validloader is None else valid_loss,\n",
    "                'valid_accuracy': None if validloader is None else valid_accuracy,\n",
    "                'valid_balanced_accuracy': None if validloader is None else bal_acc,\n",
    "            })\n",
    "\n",
    "    print('Finished Training')\n",
    "\n",
    "    return train_losses, train_accuracies, val_losses, val_accuracies, val_balanced_accuracies, model_times"
   ]
  },
  {
   "cell_type": "code",
   "execution_count": null,
   "metadata": {},
   "outputs": [],
   "source": []
  }
 ],
 "metadata": {
  "kernelspec": {
   "display_name": "Python 3",
   "language": "python",
   "name": "python3"
  },
  "language_info": {
   "codemirror_mode": {
    "name": "ipython",
    "version": 3
   },
   "file_extension": ".py",
   "mimetype": "text/x-python",
   "name": "python",
   "nbconvert_exporter": "python",
   "pygments_lexer": "ipython3",
   "version": "3.8.3"
  }
 },
 "nbformat": 4,
 "nbformat_minor": 4
}
